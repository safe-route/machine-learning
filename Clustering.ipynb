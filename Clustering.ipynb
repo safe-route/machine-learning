{
 "cells": [
  {
   "cell_type": "markdown",
   "id": "b177d0f4-10d4-43f0-8dd6-1dbb7398503d",
   "metadata": {},
   "source": [
    "# Imports"
   ]
  },
  {
   "cell_type": "code",
   "execution_count": 1,
   "id": "e71ca9c6-72c3-43a1-9b0b-7d0684da3f80",
   "metadata": {},
   "outputs": [],
   "source": [
    "# Machine Learning\n",
    "from sklearn.cluster import DBSCAN\n",
    "\n",
    "# Data library\n",
    "import pandas as pd\n",
    "import numpy as np\n",
    "\n",
    "# Visualizing\n",
    "import matplotlib.pyplot as plt\n",
    "\n",
    "# Converting\n",
    "import json\n",
    "\n",
    "# Utility\n",
    "import random"
   ]
  },
  {
   "cell_type": "markdown",
   "id": "7d0950dd-d10c-4fe6-be4e-2ddf10585c34",
   "metadata": {},
   "source": [
    "# Constants"
   ]
  },
  {
   "cell_type": "code",
   "execution_count": 2,
   "id": "afbee6dc-df52-4539-8d83-a625653d3edd",
   "metadata": {},
   "outputs": [],
   "source": [
    "# DBScan parameters\n",
    "EPSILON = 200 # meter\n",
    "MIN_POINTS = 3 # minimum locations/points for core\n",
    "\n",
    "# Unit conversion\n",
    "ANGLE_TO_METER_RATIO = 0.00001 / 1.11 # source : https://www.usna.edu/Users/oceano/pguth/md_help/html/approx_equivalents.htm\n",
    "\n",
    "# Files\n",
    "dataset_file = \"./dataset/crime_history.csv\"\n",
    "model_file = \"./model/clustering.json\""
   ]
  },
  {
   "cell_type": "markdown",
   "id": "ec5a3ca7-29f7-47f9-b3ac-57633b4bd45a",
   "metadata": {},
   "source": [
    "# Data"
   ]
  },
  {
   "cell_type": "code",
   "execution_count": 3,
   "id": "cccdd739-1444-4194-afe5-4e8555a1c17a",
   "metadata": {},
   "outputs": [
    {
     "data": {
      "text/html": [
       "<div>\n",
       "<style scoped>\n",
       "    .dataframe tbody tr th:only-of-type {\n",
       "        vertical-align: middle;\n",
       "    }\n",
       "\n",
       "    .dataframe tbody tr th {\n",
       "        vertical-align: top;\n",
       "    }\n",
       "\n",
       "    .dataframe thead th {\n",
       "        text-align: right;\n",
       "    }\n",
       "</style>\n",
       "<table border=\"1\" class=\"dataframe\">\n",
       "  <thead>\n",
       "    <tr style=\"text-align: right;\">\n",
       "      <th></th>\n",
       "      <th>latitude</th>\n",
       "      <th>longitude</th>\n",
       "    </tr>\n",
       "  </thead>\n",
       "  <tbody>\n",
       "    <tr>\n",
       "      <th>0</th>\n",
       "      <td>-6.111087</td>\n",
       "      <td>106.707932</td>\n",
       "    </tr>\n",
       "    <tr>\n",
       "      <th>1</th>\n",
       "      <td>-6.110979</td>\n",
       "      <td>106.701188</td>\n",
       "    </tr>\n",
       "    <tr>\n",
       "      <th>2</th>\n",
       "      <td>-6.114256</td>\n",
       "      <td>106.699961</td>\n",
       "    </tr>\n",
       "    <tr>\n",
       "      <th>3</th>\n",
       "      <td>-6.120112</td>\n",
       "      <td>106.702376</td>\n",
       "    </tr>\n",
       "    <tr>\n",
       "      <th>4</th>\n",
       "      <td>-6.114745</td>\n",
       "      <td>106.698592</td>\n",
       "    </tr>\n",
       "  </tbody>\n",
       "</table>\n",
       "</div>"
      ],
      "text/plain": [
       "   latitude   longitude\n",
       "0 -6.111087  106.707932\n",
       "1 -6.110979  106.701188\n",
       "2 -6.114256  106.699961\n",
       "3 -6.120112  106.702376\n",
       "4 -6.114745  106.698592"
      ]
     },
     "execution_count": 3,
     "metadata": {},
     "output_type": "execute_result"
    }
   ],
   "source": [
    "# Open dataset\n",
    "data = pd.read_csv(dataset_file)\n",
    "\n",
    "# Drop unused columns\n",
    "data = data.drop(labels=['id','Date','Time'], axis=1)\n",
    "\n",
    "# Drop NaN value\n",
    "data = data.dropna()\n",
    "\n",
    "# Data preview\n",
    "data.head()"
   ]
  },
  {
   "cell_type": "markdown",
   "id": "8a20a0e4-9702-4b1f-b445-aee3ef352fc6",
   "metadata": {},
   "source": [
    "# Utils"
   ]
  },
  {
   "cell_type": "markdown",
   "id": "991894c5-c814-4d2d-a25c-9c49db9701ad",
   "metadata": {},
   "source": [
    "## Unit Conversion"
   ]
  },
  {
   "cell_type": "code",
   "execution_count": 4,
   "id": "a409e6e6-7ee2-4b72-9de5-237f4a7c98bf",
   "metadata": {},
   "outputs": [],
   "source": [
    "def meter_to_angle(meter):\n",
    "    \"\"\"Convert meter to angle\"\"\"\n",
    "    return meter * ANGLE_TO_METER_RATIO\n",
    "\n",
    "def angle_to_meter(angle):\n",
    "    \"\"\"Convvert angle to meter\"\"\"\n",
    "    return angle / ANGLE_TO_METER_RATIO"
   ]
  },
  {
   "cell_type": "markdown",
   "id": "102d0b34-009e-4d85-9676-440f72f92250",
   "metadata": {},
   "source": [
    "# Model"
   ]
  },
  {
   "cell_type": "markdown",
   "id": "e4be3735-c8de-48cc-978a-be8b8b93bfd7",
   "metadata": {},
   "source": [
    "## Initialize"
   ]
  },
  {
   "cell_type": "code",
   "execution_count": 5,
   "id": "73894000-dde8-4aa6-9307-52bdf1964655",
   "metadata": {},
   "outputs": [],
   "source": [
    "def create_model() -> DBSCAN:\n",
    "    \"\"\"Creating DBSCAN model\"\"\"\n",
    "    dbscan = DBSCAN(eps=meter_to_angle(EPSILON), min_samples=MIN_POINTS)\n",
    "    dbscan = dbscan.fit(data)\n",
    "    \n",
    "    return dbscan"
   ]
  },
  {
   "cell_type": "code",
   "execution_count": 6,
   "id": "6a0f8a4c-24d0-432a-a6c3-7052bb2c49fe",
   "metadata": {},
   "outputs": [],
   "source": [
    "model = create_model()"
   ]
  },
  {
   "cell_type": "markdown",
   "id": "10222189-b4c3-4b09-844d-70e921164e7a",
   "metadata": {},
   "source": [
    "## \"Centroids\""
   ]
  },
  {
   "cell_type": "code",
   "execution_count": 7,
   "id": "f8dd7e46-6466-42cd-b3ed-b65a0c163e77",
   "metadata": {},
   "outputs": [],
   "source": [
    "def model_centroids(model):\n",
    "    \"\"\"Return the \"centroids\" of the model\"\"\"\n",
    "    # Obtaining labels\n",
    "    labels = model.labels_\n",
    "    unique_labels = set(labels)\n",
    "    # Generate colors\n",
    "    colors = [tuple(plt.cm.Spectral(each)) for each in np.linspace(0, 1, len(unique_labels))]\n",
    "    # Shuffle colors\n",
    "    random.shuffle(colors)\n",
    "    \n",
    "    # Calculate centroids\n",
    "    return_data = {'centroids': []}\n",
    "    for label in unique_labels:\n",
    "        if label == -1:\n",
    "            # Skip noise\n",
    "            continue\n",
    "        label_points = data[labels==label]\n",
    "        centroid = np.mean(label_points, axis=0)\n",
    "        # Max distance from centroid to cluster member\n",
    "        max_distance = np.sqrt(np.sum(np.square(label_points - centroid), axis=1)).to_numpy().flatten().max()\n",
    "        avg_point = np.mean(label_points, axis=0)\n",
    "        return_data['centroids'].append({\n",
    "            'id': int(label),\n",
    "            'latitude': float(avg_point['latitude']),\n",
    "            'longitude': float(avg_point['longitude']),\n",
    "            'range': float(angle_to_meter(max_distance))\n",
    "        })\n",
    "    \n",
    "    return return_data\n",
    "    \n",
    "centroids = model_centroids(model)"
   ]
  },
  {
   "cell_type": "markdown",
   "id": "00c12b46-53ba-434b-b136-63b2723ba329",
   "metadata": {},
   "source": [
    "## Visualizing"
   ]
  },
  {
   "cell_type": "code",
   "execution_count": 8,
   "id": "30c214e0-a59d-4e92-84ff-215583a50b53",
   "metadata": {},
   "outputs": [
    {
     "data": {
      "image/png": "[encoded data removed]",
      "text/plain": [
       "<Figure size 2160x1080 with 1 Axes>"
      ]
     },
     "metadata": {
      "needs_background": "light"
     },
     "output_type": "display_data"
    }
   ],
   "source": [
    "# Visualizing source: https://scikit-learn.org/stable/auto_examples/cluster/plot_dbscan.html#sphx-glr-auto-examples-cluster-plot-dbscan-py\n",
    "\n",
    "def visualize_model(model):\n",
    "    \"\"\"Visualize the model to a 2d plane\"\"\"\n",
    "    # Figure size configuration\n",
    "    plt.figure(figsize=(30,15))\n",
    "    \n",
    "    # Obtaining labels\n",
    "    labels = model.labels_\n",
    "    unique_labels = set(labels)\n",
    "    \n",
    "    # Number of clusters\n",
    "    clusters = len(unique_labels)\n",
    "    if -1 in unique_labels:\n",
    "        clusters -= 1\n",
    "    \n",
    "    # Generate color\n",
    "    colors = [tuple(plt.cm.Spectral(each)) for each in np.linspace(0, 1, len(unique_labels))]\n",
    "    # Shuffle colors\n",
    "    random.shuffle(colors)\n",
    "    # Default noise color\n",
    "    noise_color = (0.0, 0.0, 0.0, 1.0)\n",
    "\n",
    "    # Creating color mask\n",
    "    color_mask = np.zeros_like(labels, dtype=bool)\n",
    "    color_mask[model.core_sample_indices_] = True\n",
    "    for k, col in zip(unique_labels, colors):\n",
    "        if k == -1:\n",
    "            # Black used for noise.\n",
    "            col = noise_color\n",
    "        else:\n",
    "            col = colors[k]\n",
    "        \n",
    "        # Creating class mask\n",
    "        class_mask = k == labels\n",
    "        \n",
    "        # Plotting core\n",
    "        core_coordinate = data[class_mask & color_mask].to_numpy()\n",
    "        plt.plot(\n",
    "            core_coordinate[:, 1],\n",
    "            core_coordinate[:, 0],\n",
    "            'o',\n",
    "            markerfacecolor=col,\n",
    "            markeredgecolor=col,\n",
    "            markersize=6,\n",
    "        )\n",
    "\n",
    "        # Plotting border\n",
    "        border_coordinate = data[class_mask & ~color_mask].to_numpy()\n",
    "        plt.plot(\n",
    "            border_coordinate[:, 1],\n",
    "            border_coordinate[:, 0],\n",
    "            'o',\n",
    "            markerfacecolor=col,\n",
    "            markeredgecolor=col,\n",
    "            markersize=4,\n",
    "        )\n",
    "\n",
    "    # Showing plot\n",
    "    plt.title(\"Total clusters: %d\" % clusters)\n",
    "    plt.show()\n",
    "\n",
    "visualize_model(model)"
   ]
  },
  {
   "cell_type": "code",
   "execution_count": 9,
   "id": "4d1a5dea-cdf4-45db-879a-89349e4041aa",
   "metadata": {},
   "outputs": [
    {
     "data": {
      "image/png": "[encoded data removed]",
      "text/plain": [
       "<Figure size 2160x1080 with 1 Axes>"
      ]
     },
     "metadata": {
      "needs_background": "light"
     },
     "output_type": "display_data"
    }
   ],
   "source": [
    "def visualize_centroids(centroids):\n",
    "    \"\"\"Visualize the model to a 2d plane\"\"\"\n",
    "    # Figure size configuration\n",
    "    plt.figure(figsize=(30,15))\n",
    "    \n",
    "    # Obtaining labels\n",
    "    labels = model.labels_\n",
    "    unique_labels = set(labels)\n",
    "    \n",
    "    # Generate color\n",
    "    colors = [tuple(plt.cm.Spectral(each)) for each in np.linspace(0, 1, len(unique_labels))]\n",
    "    # Shuffle colors\n",
    "    random.shuffle(colors)\n",
    "\n",
    "    # Plotting\n",
    "    for centroid, col in zip(centroids['centroids'], colors):\n",
    "        plt.plot(\n",
    "            centroid['longitude'],\n",
    "            centroid['latitude'],\n",
    "            'o',\n",
    "            markerfacecolor=col,\n",
    "            markeredgecolor=[0,0,0,1],\n",
    "            markersize=6,\n",
    "        )\n",
    "\n",
    "    # Showing plot\n",
    "    plt.title(\"Centroids\")\n",
    "    plt.show()\n",
    "\n",
    "visualize_centroids(centroids)"
   ]
  },
  {
   "cell_type": "code",
   "execution_count": 10,
   "id": "f8e2145b-57f5-4928-9313-55832b4a9cd4",
   "metadata": {
    "tags": []
   },
   "outputs": [
    {
     "data": {
      "text/plain": [
       "{'centroids': [{'id': 0,\n",
       "   'latitude': -6.1099875568,\n",
       "   'longitude': 106.70768636,\n",
       "   'range': 194.03365751821045},\n",
       "  {'id': 1,\n",
       "   'latitude': -6.115535446333333,\n",
       "   'longitude': 106.69995186666665,\n",
       "   'range': 184.78214592716955},\n",
       "  {'id': 2,\n",
       "   'latitude': -6.121227637833333,\n",
       "   'longitude': 106.70274243333334,\n",
       "   'range': 233.21282326537187},\n",
       "  {'id': 3,\n",
       "   'latitude': -6.116677159999999,\n",
       "   'longitude': 106.70658363333332,\n",
       "   'range': 102.20815811480479},\n",
       "  {'id': 4,\n",
       "   'latitude': -6.120537145833334,\n",
       "   'longitude': 106.69753506666666,\n",
       "   'range': 202.44345172083285},\n",
       "  {'id': 5,\n",
       "   'latitude': -6.113044422250001,\n",
       "   'longitude': 106.69552365,\n",
       "   'range': 127.04119480709682},\n",
       "  {'id': 6,\n",
       "   'latitude': -6.118277688799999,\n",
       "   'longitude': 106.69480017999999,\n",
       "   'range': 124.80774023696782},\n",
       "  {'id': 7,\n",
       "   'latitude': -6.110422875,\n",
       "   'longitude': 106.704193,\n",
       "   'range': 168.79561515684193},\n",
       "  {'id': 8,\n",
       "   'latitude': -6.159466354840001,\n",
       "   'longitude': 106.672988874,\n",
       "   'range': 555.5753622458833},\n",
       "  {'id': 9,\n",
       "   'latitude': -6.167640151380952,\n",
       "   'longitude': 106.75670653333331,\n",
       "   'range': 721.0422254485635},\n",
       "  {'id': 10,\n",
       "   'latitude': -6.167282444444444,\n",
       "   'longitude': 106.74808517777778,\n",
       "   'range': 134.44457197128352},\n",
       "  {'id': 11,\n",
       "   'latitude': -6.24086456019608,\n",
       "   'longitude': 106.77381581862743,\n",
       "   'range': 572.7716144298653},\n",
       "  {'id': 12,\n",
       "   'latitude': -6.231250801663366,\n",
       "   'longitude': 106.81819892079213,\n",
       "   'range': 1055.0960737586238},\n",
       "  {'id': 13,\n",
       "   'latitude': -6.2892643080606065,\n",
       "   'longitude': 106.84054825151516,\n",
       "   'range': 1064.6673861414827},\n",
       "  {'id': 14,\n",
       "   'latitude': -6.288816650114287,\n",
       "   'longitude': 106.82548216,\n",
       "   'range': 522.6365282748185},\n",
       "  {'id': 15,\n",
       "   'latitude': -6.2065426090980385,\n",
       "   'longitude': 106.93316187058825,\n",
       "   'range': 371.64716755093144},\n",
       "  {'id': 16,\n",
       "   'latitude': -6.190699973647059,\n",
       "   'longitude': 106.89716119803921,\n",
       "   'range': 589.0720980738979},\n",
       "  {'id': 17,\n",
       "   'latitude': -6.239768133843137,\n",
       "   'longitude': 106.91224667843137,\n",
       "   'range': 591.4376066735103},\n",
       "  {'id': 18,\n",
       "   'latitude': -6.187043233830188,\n",
       "   'longitude': 106.8550921773585,\n",
       "   'range': 366.8520924437385},\n",
       "  {'id': 19,\n",
       "   'latitude': -6.185178375333334,\n",
       "   'longitude': 106.84901993333334,\n",
       "   'range': 131.72147185876307},\n",
       "  {'id': 20,\n",
       "   'latitude': -6.162387877333334,\n",
       "   'longitude': 106.83849933333333,\n",
       "   'range': 93.39826947813818},\n",
       "  {'id': 21,\n",
       "   'latitude': -6.162928408666667,\n",
       "   'longitude': 106.84618106666666,\n",
       "   'range': 141.67478204051474},\n",
       "  {'id': 22,\n",
       "   'latitude': -6.1976157866,\n",
       "   'longitude': 106.80727163000002,\n",
       "   'range': 217.76496527961422},\n",
       "  {'id': 23,\n",
       "   'latitude': -6.202764629170732,\n",
       "   'longitude': 106.80914190731707,\n",
       "   'range': 756.7603564437936},\n",
       "  {'id': 24,\n",
       "   'latitude': -6.126023597686276,\n",
       "   'longitude': 106.82669176862746,\n",
       "   'range': 480.5096113045295},\n",
       "  {'id': 25,\n",
       "   'latitude': -6.1144876165,\n",
       "   'longitude': 106.891883025,\n",
       "   'range': 100.31588580492595},\n",
       "  {'id': 26,\n",
       "   'latitude': -6.112452783945946,\n",
       "   'longitude': 106.88372715675675,\n",
       "   'range': 690.724354664297},\n",
       "  {'id': 27,\n",
       "   'latitude': -6.1111926885,\n",
       "   'longitude': 106.876575525,\n",
       "   'range': 175.34673154692646},\n",
       "  {'id': 28,\n",
       "   'latitude': -6.125789400960785,\n",
       "   'longitude': 106.91738855294116,\n",
       "   'range': 358.9636740902917},\n",
       "  {'id': 29,\n",
       "   'latitude': -6.141037994647059,\n",
       "   'longitude': 106.77421346862745,\n",
       "   'range': 557.8533422344424}]}"
      ]
     },
     "execution_count": 10,
     "metadata": {},
     "output_type": "execute_result"
    }
   ],
   "source": [
    "centroids"
   ]
  },
  {
   "cell_type": "markdown",
   "id": "fe1a8e7f-104d-4485-8a91-349284757a03",
   "metadata": {},
   "source": [
    "# Converting to JSON"
   ]
  },
  {
   "cell_type": "code",
   "execution_count": 11,
   "id": "b3191f63-7912-4c9a-8e50-29f7367b552d",
   "metadata": {},
   "outputs": [],
   "source": [
    "# Saving model using json\n",
    "with open(model_file, 'w') as f:\n",
    "    json.dump(centroids, f, indent=2)"
   ]
  },
  {
   "cell_type": "code",
   "execution_count": null,
   "id": "931ac507-9321-40ca-bdaf-42a1d2005c22",
   "metadata": {},
   "outputs": [],
   "source": []
  }
 ],
 "metadata": {
  "kernelspec": {
   "display_name": "Python 3",
   "language": "python",
   "name": "python3"
  },
  "language_info": {
   "codemirror_mode": {
    "name": "ipython",
    "version": 3
   },
   "file_extension": ".py",
   "mimetype": "text/x-python",
   "name": "python",
   "nbconvert_exporter": "python",
   "pygments_lexer": "ipython3",
   "version": "3.9.7"
  }
 },
 "nbformat": 4,
 "nbformat_minor": 5
}
