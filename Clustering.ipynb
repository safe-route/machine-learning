{
 "cells": [
  {
   "cell_type": "markdown",
   "id": "b177d0f4-10d4-43f0-8dd6-1dbb7398503d",
   "metadata": {},
   "source": [
    "# Imports"
   ]
  },
  {
   "cell_type": "code",
   "execution_count": null,
   "id": "e71ca9c6-72c3-43a1-9b0b-7d0684da3f80",
   "metadata": {},
   "outputs": [],
   "source": [
    "# Machine Learning\n",
    "from sklearn.cluster import DBSCAN\n",
    "\n",
    "# Data library\n",
    "import pandas as pd\n",
    "import numpy as np\n",
    "\n",
    "# Visualizing\n",
    "import matplotlib.pyplot as plt\n",
    "\n",
    "# Converting\n",
    "import json\n",
    "\n",
    "# Utility\n",
    "import random\n",
    "import os"
   ]
  },
  {
   "cell_type": "markdown",
   "id": "278f0926",
   "metadata": {},
   "source": [
    "# BigQuery"
   ]
  },
  {
   "cell_type": "code",
   "execution_count": null,
   "id": "9f5ad082",
   "metadata": {},
   "outputs": [],
   "source": [
    "from google.cloud import bigquery\n",
    "from google.oauth2 import service_account\n",
    "credentials = service_account.Credentials.from_service_account_file('./dataset/safe-route-351803-701f86f6b63e.json')\n",
    "\n",
    "project_id = 'safe-route-351803'\n",
    "bqclient = bigquery.Client(credentials= credentials,project=project_id)"
   ]
  },
  {
   "cell_type": "code",
   "execution_count": null,
   "id": "8a1b6e71",
   "metadata": {},
   "outputs": [],
   "source": [
    "query_job = bqclient.query(\"\"\"\n",
    "   SELECT *\n",
    "   FROM jakarta_crime_history.bps_added_table_crime\n",
    "   LIMIT 20000\"\"\")\n",
    "\n",
    "results = query_job.to_dataframe() # Wait for the job to complete."
   ]
  },
  {
   "cell_type": "markdown",
   "id": "7d0950dd-d10c-4fe6-be4e-2ddf10585c34",
   "metadata": {},
   "source": [
    "# Constants"
   ]
  },
  {
   "cell_type": "code",
   "execution_count": null,
   "id": "afbee6dc-df52-4539-8d83-a625653d3edd",
   "metadata": {},
   "outputs": [],
   "source": [
    "# DBScan parameters\n",
    "EPSILON = 200 # meter\n",
    "MIN_POINTS = 3 # minimum locations/points for core\n",
    "\n",
    "# Unit conversion\n",
    "ANGLE_TO_METER_RATIO = 0.00001 / 1.11 # source : https://www.usna.edu/Users/oceano/pguth/md_help/html/approx_equivalents.htm\n",
    "\n",
    "# Files\n",
    "dataset_file = \"./dataset/crime_history.csv\"\n",
    "model_file = \"./model/clustering.json\"\n",
    "statistic_file = \"./model/area_statistic.json\"\n",
    "\n",
    "# Folder\n",
    "geojson_folder = \"./dataset/geoJSON/\"\n",
    "\n",
    "# Misc\n",
    "geojson_extension = \".geojson\""
   ]
  },
  {
   "cell_type": "markdown",
   "id": "ec5a3ca7-29f7-47f9-b3ac-57633b4bd45a",
   "metadata": {},
   "source": [
    "# Data"
   ]
  },
  {
   "cell_type": "code",
   "execution_count": null,
   "id": "cccdd739-1444-4194-afe5-4e8555a1c17a",
   "metadata": {},
   "outputs": [],
   "source": [
    "# Open dataset\n",
    "data = results\n",
    "\n",
    "# Drop NaN value\n",
    "data = data.dropna()\n",
    "\n",
    "# Copy data before dropped\n",
    "raw_data = data.copy()\n",
    "\n",
    "# Drop unused columns\n",
    "data = raw_data.drop(labels=['id', 'date', 'time', 'type', 'districts', 'subdistrict'], axis=1)\n",
    "\n",
    "# Data preview\n",
    "data.head()"
   ]
  },
  {
   "cell_type": "markdown",
   "id": "8a20a0e4-9702-4b1f-b445-aee3ef352fc6",
   "metadata": {},
   "source": [
    "# Utils"
   ]
  },
  {
   "cell_type": "markdown",
   "id": "991894c5-c814-4d2d-a25c-9c49db9701ad",
   "metadata": {},
   "source": [
    "## Unit Conversion"
   ]
  },
  {
   "cell_type": "code",
   "execution_count": null,
   "id": "a409e6e6-7ee2-4b72-9de5-237f4a7c98bf",
   "metadata": {},
   "outputs": [],
   "source": [
    "def meter_to_angle(meter):\n",
    "    \"\"\"Convert meter to angle\"\"\"\n",
    "    return meter * ANGLE_TO_METER_RATIO\n",
    "\n",
    "def angle_to_meter(angle):\n",
    "    \"\"\"Convvert angle to meter\"\"\"\n",
    "    return angle / ANGLE_TO_METER_RATIO"
   ]
  },
  {
   "cell_type": "markdown",
   "id": "102d0b34-009e-4d85-9676-440f72f92250",
   "metadata": {},
   "source": [
    "# Model"
   ]
  },
  {
   "cell_type": "markdown",
   "id": "e4be3735-c8de-48cc-978a-be8b8b93bfd7",
   "metadata": {},
   "source": [
    "## Initialize"
   ]
  },
  {
   "cell_type": "code",
   "execution_count": null,
   "id": "73894000-dde8-4aa6-9307-52bdf1964655",
   "metadata": {},
   "outputs": [],
   "source": [
    "def create_model() -> DBSCAN:\n",
    "    \"\"\"Creating DBSCAN model\"\"\"\n",
    "    dbscan = DBSCAN(eps=meter_to_angle(EPSILON), min_samples=MIN_POINTS)\n",
    "    dbscan = dbscan.fit(data)\n",
    "    \n",
    "    return dbscan"
   ]
  },
  {
   "cell_type": "code",
   "execution_count": null,
   "id": "6a0f8a4c-24d0-432a-a6c3-7052bb2c49fe",
   "metadata": {},
   "outputs": [],
   "source": [
    "model = create_model()"
   ]
  },
  {
   "cell_type": "markdown",
   "id": "10222189-b4c3-4b09-844d-70e921164e7a",
   "metadata": {},
   "source": [
    "## \"Centroids\""
   ]
  },
  {
   "cell_type": "code",
   "execution_count": null,
   "id": "f8dd7e46-6466-42cd-b3ed-b65a0c163e77",
   "metadata": {},
   "outputs": [],
   "source": [
    "def model_centroids(model):\n",
    "    \"\"\"Return the \"centroids\" of the model\"\"\"\n",
    "    # Obtaining labels\n",
    "    labels = model.labels_\n",
    "    unique_labels = set(labels)\n",
    "    # Generate colors\n",
    "    colors = [tuple(plt.cm.Spectral(each)) for each in np.linspace(0, 1, len(unique_labels))]\n",
    "    # Shuffle colors\n",
    "    random.shuffle(colors)\n",
    "    \n",
    "    # Calculate centroids\n",
    "    return_data = {'centroids': []}\n",
    "    for label in unique_labels:\n",
    "        if label == -1:\n",
    "            # Skip noise\n",
    "            continue\n",
    "        # Calculate centroids coordinate and range\n",
    "        label_points = data[labels==label]\n",
    "        centroid = np.mean(label_points, axis=0)\n",
    "        # Max distance from centroid to cluster member\n",
    "        max_distance = np.sqrt(np.sum(np.square(label_points - centroid), axis=1)).to_numpy().flatten().max()\n",
    "        avg_point = np.mean(label_points, axis=0)\n",
    "        \n",
    "        # Calculate crime info for each centroids\n",
    "        crime_info = raw_data[labels==label].groupby('type').size().to_dict()\n",
    "        \n",
    "        # Generating data\n",
    "        return_data['centroids'].append({\n",
    "            'id': int(label),\n",
    "            'latitude': float(avg_point['latitude']),\n",
    "            'longitude': float(avg_point['longitude']),\n",
    "            'range': float(angle_to_meter(max_distance)),\n",
    "            'crime_info': crime_info\n",
    "        })\n",
    "    \n",
    "    return return_data\n",
    "    \n",
    "centroids = model_centroids(model)"
   ]
  },
  {
   "cell_type": "markdown",
   "id": "00c12b46-53ba-434b-b136-63b2723ba329",
   "metadata": {},
   "source": [
    "## Visualizing"
   ]
  },
  {
   "cell_type": "code",
   "execution_count": null,
   "id": "30c214e0-a59d-4e92-84ff-215583a50b53",
   "metadata": {
    "tags": []
   },
   "outputs": [],
   "source": [
    "# Visualizing source: https://scikit-learn.org/stable/auto_examples/cluster/plot_dbscan.html#sphx-glr-auto-examples-cluster-plot-dbscan-py\n",
    "\n",
    "def visualize_model(model):\n",
    "    \"\"\"Visualize the model to a 2d plane\"\"\"\n",
    "    # Figure size configuration\n",
    "    plt.figure(figsize=(30,15))\n",
    "    \n",
    "    # Obtaining labels\n",
    "    labels = model.labels_\n",
    "    unique_labels = set(labels)\n",
    "    \n",
    "    # Number of clusters\n",
    "    clusters = len(unique_labels)\n",
    "    if -1 in unique_labels:\n",
    "        clusters -= 1\n",
    "    \n",
    "    # Generate color\n",
    "    colors = [tuple(plt.cm.Spectral(each)) for each in np.linspace(0, 1, len(unique_labels))]\n",
    "    # Shuffle colors\n",
    "    random.shuffle(colors)\n",
    "    # Default noise color\n",
    "    noise_color = (0.0, 0.0, 0.0, 1.0)\n",
    "\n",
    "    # Creating color mask\n",
    "    color_mask = np.zeros_like(labels, dtype=bool)\n",
    "    color_mask[model.core_sample_indices_] = True\n",
    "    for k, col in zip(unique_labels, colors):\n",
    "        if k == -1:\n",
    "            # Black used for noise.\n",
    "            col = noise_color\n",
    "        else:\n",
    "            col = colors[k]\n",
    "        \n",
    "        # Creating class mask\n",
    "        class_mask = k == labels\n",
    "        \n",
    "        # Plotting core\n",
    "        core_coordinate = data[class_mask & color_mask].to_numpy()\n",
    "        plt.plot(\n",
    "            core_coordinate[:, 1],\n",
    "            core_coordinate[:, 0],\n",
    "            'o',\n",
    "            markerfacecolor=col,\n",
    "            markeredgecolor=col,\n",
    "            markersize=6,\n",
    "        )\n",
    "\n",
    "        # Plotting border\n",
    "        border_coordinate = data[class_mask & ~color_mask].to_numpy()\n",
    "        plt.plot(\n",
    "            border_coordinate[:, 1],\n",
    "            border_coordinate[:, 0],\n",
    "            'o',\n",
    "            markerfacecolor=col,\n",
    "            markeredgecolor=col,\n",
    "            markersize=4,\n",
    "        )\n",
    "\n",
    "    # Showing plot\n",
    "    plt.title(\"Total clusters: %d\" % clusters)\n",
    "    plt.show()\n",
    "\n",
    "visualize_model(model)"
   ]
  },
  {
   "cell_type": "code",
   "execution_count": null,
   "id": "4d1a5dea-cdf4-45db-879a-89349e4041aa",
   "metadata": {
    "tags": []
   },
   "outputs": [],
   "source": [
    "def visualize_centroids(centroids):\n",
    "    \"\"\"Visualize the model to a 2d plane\"\"\"\n",
    "    # Figure size configuration\n",
    "    plt.figure(figsize=(30,15))\n",
    "    \n",
    "    # Obtaining labels\n",
    "    labels = model.labels_\n",
    "    unique_labels = set(labels)\n",
    "    \n",
    "    # Generate color\n",
    "    colors = [tuple(plt.cm.Spectral(each)) for each in np.linspace(0, 1, len(unique_labels))]\n",
    "    # Shuffle colors\n",
    "    random.shuffle(colors)\n",
    "\n",
    "    # Plotting\n",
    "    for centroid, col in zip(centroids['centroids'], colors):\n",
    "        plt.plot(\n",
    "            centroid['longitude'],\n",
    "            centroid['latitude'],\n",
    "            'o',\n",
    "            markerfacecolor=col,\n",
    "            markeredgecolor=[0,0,0,1],\n",
    "            markersize=6,\n",
    "        )\n",
    "\n",
    "    # Showing plot\n",
    "    plt.title(\"Centroids\")\n",
    "    plt.show()\n",
    "\n",
    "visualize_centroids(centroids)"
   ]
  },
  {
   "cell_type": "code",
   "execution_count": null,
   "id": "f8e2145b-57f5-4928-9313-55832b4a9cd4",
   "metadata": {
    "tags": []
   },
   "outputs": [],
   "source": [
    "centroids"
   ]
  },
  {
   "cell_type": "markdown",
   "id": "14f1fa1a-4e72-46b8-9ddd-014db0912511",
   "metadata": {},
   "source": [
    "# Area statistic"
   ]
  },
  {
   "cell_type": "code",
   "execution_count": null,
   "id": "62f9ffd4-8007-421e-8d24-319d7750654a",
   "metadata": {
    "tags": []
   },
   "outputs": [],
   "source": [
    "def coordinate_to_object(coordinate:tuple[float,float], swap:bool=False) -> dict[str,float]:\n",
    "    \"\"\"Convert coordinate in the form of tuple to object with latitude and longitude\n",
    "    default mode require first element in the tuple to be latitude\"\"\"\n",
    "    if swap:\n",
    "        return {\"latitude\":coordinate[1], \"longitude\":coordinate[0]}\n",
    "    else:\n",
    "        return {\"latitude\":coordinate[0], \"longitude\":coordinate[1]}\n",
    "\n",
    "def parse_geo_json(file_path):\n",
    "    \"\"\"Parse GEO JSON data to a dictionary with the following:\n",
    "    Key: subdistrict name (string)\n",
    "    Value: multi-polygon (list of float)\"\"\"\n",
    "    geo_json_coordinates = {}\n",
    "    for root, dirs, files in os.walk(file_path):\n",
    "        # Iterate through all folder\n",
    "        for filename in files:\n",
    "            # Iterate all file\n",
    "            if filename.endswith(geojson_extension):\n",
    "                # Check file extension\n",
    "                with open(os.path.join(root, filename)) as geo_json:\n",
    "                    area_data = json.load(geo_json)\n",
    "                    for sub_area_data in area_data[\"features\"]:\n",
    "                        # flatten_list = list(np.array(sub_area_data[\"geometry\"][\"coordinates\"], object).flatten())\n",
    "                        temp_sub_area_data = []\n",
    "                        for sub_area_part_data in sub_area_data[\"geometry\"][\"coordinates\"]:\n",
    "                            part_coordinates = list(np.array(sub_area_part_data, object).flatten())\n",
    "                            part_coordinates = [coordinate_to_object((part_coordinates[i], part_coordinates[i+1]), True) for i in range(0,len(part_coordinates),2)]\n",
    "                            temp_sub_area_data.append(part_coordinates)\n",
    "                        geo_json_coordinates[sub_area_data[\"properties\"][\"name\"]] = temp_sub_area_data\n",
    "    return geo_json_coordinates\n",
    "\n",
    "parse_geo_json(geojson_folder)"
   ]
  },
  {
   "cell_type": "code",
   "execution_count": null,
   "id": "cc5830de-83ed-4ecb-8f7e-04a5732ba60d",
   "metadata": {},
   "outputs": [],
   "source": [
    "def generate_area_statistic(data, area_type='subdistrict'):\n",
    "    \"\"\"Generate data based on area_type (default is subdistrict)\"\"\"\n",
    "    # Grouping data based on subdistrict and type\n",
    "    statistic_data = data.copy()\n",
    "    subdistrict_crime_statistic = statistic_data.groupby([area_type,'type']).size().to_dict()\n",
    "\n",
    "    # Transform dictionary based on subdistrict\n",
    "    subdisctrict_data = {}\n",
    "    for key in subdistrict_crime_statistic:\n",
    "        if subdisctrict_data.get(key[0]) is None:\n",
    "            # Generate dictionary if it does not exist\n",
    "            subdisctrict_data[key[0]] = {}\n",
    "        subdisctrict_data[key[0]][key[1]] = subdistrict_crime_statistic[key]\n",
    "    subdisctrict_data\n",
    "    \n",
    "    # Generte geo json coordinates data\n",
    "    geo_json_data = parse_geo_json(geojson_folder)\n",
    "    \n",
    "    # Transform dictionary to json format\n",
    "    statistic = {'statistic':[]}\n",
    "    for subdistrict in subdisctrict_data:\n",
    "        subdistrict_name = subdistrict.replace('_',' ')\n",
    "        for subdistrict_part in geo_json_data[subdistrict_name]:\n",
    "            statistic['statistic'].append({\n",
    "                'subdistrict': subdistrict_name,\n",
    "                'total_crime': sum(subdisctrict_data[subdistrict].values()),\n",
    "                'crime_info': subdisctrict_data[subdistrict],\n",
    "                'coordinates': subdistrict_part\n",
    "            })\n",
    "        \n",
    "    return statistic\n",
    "\n",
    "statistic = generate_area_statistic(raw_data)"
   ]
  },
  {
   "cell_type": "markdown",
   "id": "fe1a8e7f-104d-4485-8a91-349284757a03",
   "metadata": {},
   "source": [
    "# Converting to JSON"
   ]
  },
  {
   "cell_type": "code",
   "execution_count": null,
   "id": "b3191f63-7912-4c9a-8e50-29f7367b552d",
   "metadata": {},
   "outputs": [],
   "source": [
    "# Saving model using json\n",
    "with open(model_file, 'w') as f:\n",
    "    json.dump(centroids, f, indent=2)"
   ]
  },
  {
   "cell_type": "code",
   "execution_count": null,
   "id": "00dd15e8-ee38-44e3-98dd-d5f1f7cc2714",
   "metadata": {},
   "outputs": [],
   "source": [
    "# Saving area statistic using json\n",
    "with open(statistic_file, 'w') as f:\n",
    "    json.dump(statistic, f, indent=2)"
   ]
  }
 ],
 "metadata": {
  "kernelspec": {
   "display_name": "Python 3",
   "language": "python",
   "name": "python3"
  },
  "language_info": {
   "codemirror_mode": {
    "name": "ipython",
    "version": 3
   },
   "file_extension": ".py",
   "mimetype": "text/x-python",
   "name": "python",
   "nbconvert_exporter": "python",
   "pygments_lexer": "ipython3",
   "version": "3.9.7"
  }
 },
 "nbformat": 4,
 "nbformat_minor": 5
}
