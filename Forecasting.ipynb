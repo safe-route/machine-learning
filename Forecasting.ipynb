{
 "cells": [
  {
   "cell_type": "markdown",
   "id": "840aa704-6ca0-4fe9-af7a-e0c1d0e889ff",
   "metadata": {},
   "source": [
    "# Imports"
   ]
  },
  {
   "cell_type": "code",
   "execution_count": 1,
   "id": "d371c76a-f6f5-4d71-82f4-df7888d8107a",
   "metadata": {},
   "outputs": [],
   "source": [
    "import tensorflow as tf"
   ]
  },
  {
   "cell_type": "markdown",
   "id": "8a9d61ec-65bf-4370-aef3-b443dacf8410",
   "metadata": {
    "tags": []
   },
   "source": [
    "# Constants"
   ]
  },
  {
   "cell_type": "code",
   "execution_count": 6,
   "id": "b989cef0-7d2b-4442-b155-e829007420ea",
   "metadata": {},
   "outputs": [],
   "source": [
    "\n",
    "# Model\n",
    "learning_rate = 0.02\n",
    "optimizer = tf.keras.optimizers.Adam(learning_rate=learning_rate)\n",
    "loss = tf.keras.losses.Huber()\n",
    "metrics = [\"mae\"]\n",
    "epochs = 1000\n",
    "\n",
    "# File\n",
    "data_file = './dataset/...'\n",
    "model_1_file = './model/...'\n",
    "model_2_file = './model/...'"
   ]
  },
  {
   "cell_type": "markdown",
   "id": "cb8c65a6-31c7-4a6a-acaf-d061b6a43b73",
   "metadata": {},
   "source": [
    "# Data"
   ]
  },
  {
   "cell_type": "code",
   "execution_count": null,
   "id": "dd045ce0-b9c8-4e74-974d-a1be0ea325a5",
   "metadata": {},
   "outputs": [],
   "source": [
    "data = ..."
   ]
  },
  {
   "cell_type": "markdown",
   "id": "1c3737d5-7226-4a3e-85a7-0c42c0147134",
   "metadata": {},
   "source": [
    "# Model"
   ]
  },
  {
   "cell_type": "code",
   "execution_count": 5,
   "id": "72f7ab93-954b-4f7b-af29-5de1697b7ca2",
   "metadata": {},
   "outputs": [],
   "source": [
    "def create_model():\n",
    "    \"\"\"Create Forecasting Model\n",
    "    Model used: LSTM\n",
    "    output should consist of 3 item, [datetime, latitude, longitude]\n",
    "    \"\"\"\n",
    "    # Generating model\n",
    "    model = tf.keras.models.Sequential([\n",
    "        tf.keras.layers.LSTM(24),\n",
    "        tf.keras.layers.Dense(3, activation='sigmoid'),\n",
    "        tf.keras.layers.Dense(3, activation='linear')\n",
    "    ])\n",
    "    \n",
    "    # Compiling model\n",
    "    model.compile(\n",
    "        loss=loss,\n",
    "        optimizer=optimizer,\n",
    "        metrics=metrics,\n",
    "    )\n",
    "    \n",
    "    # Train model\n",
    "    # model.fit(data, epochs=epochs)\n",
    "    \n",
    "    return model\n"
   ]
  },
  {
   "cell_type": "code",
   "execution_count": null,
   "id": "371563be-a495-4827-8b85-b96fafb969e4",
   "metadata": {},
   "outputs": [],
   "source": []
  },
  {
   "cell_type": "code",
   "execution_count": null,
   "id": "0f8dd2f1-26a3-4bbd-9950-54455af14fc5",
   "metadata": {},
   "outputs": [],
   "source": []
  },
  {
   "cell_type": "code",
   "execution_count": null,
   "id": "0020ef55-5912-4a02-a3e9-35a224c4f332",
   "metadata": {},
   "outputs": [],
   "source": []
  },
  {
   "cell_type": "code",
   "execution_count": null,
   "id": "0dbd3560-e268-48a4-a8f5-963dc55064ea",
   "metadata": {},
   "outputs": [],
   "source": []
  },
  {
   "cell_type": "code",
   "execution_count": null,
   "id": "42f28982-1782-459d-bd97-addd2c797f08",
   "metadata": {},
   "outputs": [],
   "source": []
  },
  {
   "cell_type": "code",
   "execution_count": null,
   "id": "c6baee5b-7583-414b-8d48-cc8f3cf3c11c",
   "metadata": {},
   "outputs": [],
   "source": []
  }
 ],
 "metadata": {
  "kernelspec": {
   "display_name": "Python 3",
   "language": "python",
   "name": "python3"
  },
  "language_info": {
   "codemirror_mode": {
    "name": "ipython",
    "version": 3
   },
   "file_extension": ".py",
   "mimetype": "text/x-python",
   "name": "python",
   "nbconvert_exporter": "python",
   "pygments_lexer": "ipython3",
   "version": "3.9.7"
  }
 },
 "nbformat": 4,
 "nbformat_minor": 5
}
